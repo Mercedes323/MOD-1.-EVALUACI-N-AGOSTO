{
 "cells": [
  {
   "cell_type": "code",
   "execution_count": 2,
   "id": "8de4aae8",
   "metadata": {},
   "outputs": [
    {
     "ename": "IndentationError",
     "evalue": "unindent does not match any outer indentation level (<string>, line 9)",
     "output_type": "error",
     "traceback": [
      "\u001b[1;36m  File \u001b[1;32m<string>:9\u001b[1;36m\u001b[0m\n\u001b[1;33m    for producto in self.inventario:\u001b[0m\n\u001b[1;37m                                    ^\u001b[0m\n\u001b[1;31mIndentationError\u001b[0m\u001b[1;31m:\u001b[0m unindent does not match any outer indentation level\n"
     ]
    }
   ],
   "source": [
    "#1 Definir la clase\n",
    "class TiendaOnLine:\n",
    "    def __init__(self):\n",
    "        # Inventario vacío al inicio\n",
    "        self.inventario = []\n",
    "        self.ventas_totales = 0.0\n",
    "    def agregar_producto(self, nombre, precio, cantidad):\n",
    "            \"\"\"Agrega un producto o actualiza su cantidad si ya existe\"\"\"\n",
    "        for producto in self.inventario:\n",
    "            if producto['nombre'] == nombre:\n",
    "                producto['cantidad'] += cantidad\n",
    "                print(f\"Se actualizó la cantidad de {nombre}, Nueva cantidad: {producto['cantidad']}\")\n",
    "                return\n",
    "        # Si no existe, se agrega al inventario\n",
    "        self.inventario.append({'nombre': nombre, 'precio': precio, 'cantidad': cantidad})\n",
    "        print(f\"Producto {nombre} agregado al inventario.\")"
   ]
  },
  {
   "cell_type": "code",
   "execution_count": 20,
   "id": "39d328a6",
   "metadata": {},
   "outputs": [],
   "source": [
    "def ver_inventario(self):\n",
    "        \"\"\"Muestra todos los productos en el inventario\"\"\"\n",
    "        print(\"Inventario:\")\n",
    "        for producto in self.inventario:\n",
    "            print(f\"Nombre: {producto['nombre']}, Precio: ${producto['precio']}, Cantidad: {producto['cantidad']}\")"
   ]
  },
  {
   "cell_type": "code",
   "execution_count": 12,
   "id": "c576683c",
   "metadata": {},
   "outputs": [],
   "source": [
    "def buscar_producto(self, nombre):\n",
    "        \"\"\"Busca un producto por nombre\"\"\"\n",
    "        for producto in self.inventario:\n",
    "            if producto['nombre'] == nombre:\n",
    "                print(f\"Producto encontrado: Nombre: {producto['nombre']}, Precio: ${producto['precio']}, Cantidad: {producto['cantidad']}\")\n",
    "                return\n",
    "        print(f\"Producto {nombre} no encontrado.\")"
   ]
  },
  {
   "cell_type": "code",
   "execution_count": 13,
   "id": "5ec6a926",
   "metadata": {},
   "outputs": [],
   "source": [
    "def actualizar_stock(self, nombre, cantidad):\n",
    "        \"\"\"Actualiza la cantidad de un producto\"\"\"\n",
    "        for producto in self.inventario:\n",
    "            if producto['nombre'] == nombre:\n",
    "                producto['cantidad'] += cantidad\n",
    "                print(f\"Stock actualizado de {nombre}, nueva cantidad: {producto['cantidad']}\")\n",
    "                return\n",
    "        print(f\"Producto {nombre} no encontrado para actualizar.\")\n",
    "        \n",
    "        "
   ]
  },
  {
   "cell_type": "code",
   "execution_count": 14,
   "id": "9131971f",
   "metadata": {},
   "outputs": [],
   "source": [
    " def eliminar_producto(self, nombre):\n",
    "        \"\"\"Elimina un producto del inventario\"\"\"\n",
    "        for producto in self.inventario:\n",
    "            if producto['nombre'] == nombre:\n",
    "                self.inventario.remove(producto)\n",
    "                print(f\"Producto {nombre} eliminado del inventario.\")\n",
    "                return\n",
    "        print(f\"Producto {nombre} no encontrado para eliminar.\")"
   ]
  },
  {
   "cell_type": "code",
   "execution_count": 15,
   "id": "78ac2623",
   "metadata": {},
   "outputs": [],
   "source": [
    "def calcular_valor_inventario(self):\n",
    "        \"\"\"Calcula el valor total del inventario\"\"\"\n",
    "        total = 0\n",
    "        for producto in self.inventario:\n",
    "            total += producto['precio'] * producto['cantidad']\n",
    "        print(f\"Valor total del inventario: ${total}\")"
   ]
  },
  {
   "cell_type": "code",
   "execution_count": 16,
   "id": "857db3ee",
   "metadata": {},
   "outputs": [
    {
     "ename": "AttributeError",
     "evalue": "'TiendaOnLine' object has no attribute 'agregar_producto'",
     "output_type": "error",
     "traceback": [
      "\u001b[1;31m---------------------------------------------------------------------------\u001b[0m",
      "\u001b[1;31mAttributeError\u001b[0m                            Traceback (most recent call last)",
      "Cell \u001b[1;32mIn[16], line 5\u001b[0m\n\u001b[0;32m      2\u001b[0m mi_tienda \u001b[38;5;241m=\u001b[39m TiendaOnLine()\n\u001b[0;32m      4\u001b[0m \u001b[38;5;66;03m# 3️Agregar productos usando tu ejemplo\u001b[39;00m\n\u001b[1;32m----> 5\u001b[0m mi_tienda\u001b[38;5;241m.\u001b[39magregar_producto(\u001b[38;5;124m\"\u001b[39m\u001b[38;5;124mCamisa\u001b[39m\u001b[38;5;124m\"\u001b[39m, \u001b[38;5;241m20\u001b[39m, \u001b[38;5;241m40\u001b[39m)\n\u001b[0;32m      6\u001b[0m mi_tienda\u001b[38;5;241m.\u001b[39magregar_producto(\u001b[38;5;124m\"\u001b[39m\u001b[38;5;124mPantalón\u001b[39m\u001b[38;5;124m\"\u001b[39m, \u001b[38;5;241m30\u001b[39m, \u001b[38;5;241m30\u001b[39m)\n\u001b[0;32m      8\u001b[0m \u001b[38;5;66;03m# 4️ Ver inventario para comprobar\u001b[39;00m\n",
      "\u001b[1;31mAttributeError\u001b[0m: 'TiendaOnLine' object has no attribute 'agregar_producto'"
     ]
    }
   ],
   "source": [
    "# 2 Crear la instancia de la tienda\n",
    "mi_tienda = TiendaOnLine()\n",
    "\n",
    "# 3️Agregar productos usando tu ejemplo\n",
    "mi_tienda.agregar_producto(\"Camisa\", 20, 40)\n",
    "mi_tienda.agregar_producto(\"Pantalón\", 30, 30)\n",
    "\n",
    "# 4️ Ver inventario para comprobar\n",
    "mi_tienda.ver_inventario()"
   ]
  }
 ],
 "metadata": {
  "kernelspec": {
   "display_name": "base",
   "language": "python",
   "name": "python3"
  },
  "language_info": {
   "codemirror_mode": {
    "name": "ipython",
    "version": 3
   },
   "file_extension": ".py",
   "mimetype": "text/x-python",
   "name": "python",
   "nbconvert_exporter": "python",
   "pygments_lexer": "ipython3",
   "version": "3.13.5"
  }
 },
 "nbformat": 4,
 "nbformat_minor": 5
}
